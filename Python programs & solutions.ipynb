{
 "cells": [
  {
   "cell_type": "markdown",
   "id": "e33d5478",
   "metadata": {},
   "source": [
    "#### 1. write a program to reconstruct its given string in list individual elements. For example, \"python\" o/p: [\"p\",\"y\",\"t\",\"h\",\"o\",\"n\"].\n"
   ]
  },
  {
   "cell_type": "code",
   "execution_count": 1,
   "id": "d48c6cfe",
   "metadata": {},
   "outputs": [
    {
     "name": "stdout",
     "output_type": "stream",
     "text": [
      "['p', 'y', 't', 'h', 'o', 'n']\n"
     ]
    }
   ],
   "source": [
    "List1 = []\n",
    "s = \"python\"\n",
    "for each in s:\n",
    "    List1.append(each)\n",
    "print(List1)    "
   ]
  },
  {
   "cell_type": "markdown",
   "id": "a33dc5ee",
   "metadata": {},
   "source": [
    "    In the above program print string to it's individual elements for using for loop"
   ]
  },
  {
   "cell_type": "code",
   "execution_count": 2,
   "id": "c25d079a",
   "metadata": {},
   "outputs": [
    {
     "name": "stdout",
     "output_type": "stream",
     "text": [
      "['p', 'y', 't', 'h', 'o', 'n']\n"
     ]
    }
   ],
   "source": [
    "def list_comprehension(n):\n",
    "    print([i for i in n])\n",
    "list_comprehension(\"python\")    "
   ]
  },
  {
   "cell_type": "markdown",
   "id": "c089165c",
   "metadata": {},
   "source": [
    "    In the above program print string to it's individual elements for using list_comprehension method"
   ]
  },
  {
   "cell_type": "markdown",
   "id": "8cabfe0d",
   "metadata": {},
   "source": [
    "#### 2.Write a program to encode its string characters to ASCII values and revert the same ASCII values to its characters in list form. "
   ]
  },
  {
   "cell_type": "code",
   "execution_count": 4,
   "id": "a60ba7ec",
   "metadata": {},
   "outputs": [
    {
     "data": {
      "text/plain": [
       "['p', 'y', 't', 'h', 'o', 'n']"
      ]
     },
     "execution_count": 4,
     "metadata": {},
     "output_type": "execute_result"
    }
   ],
   "source": [
    "def myfunction(s):\n",
    "    return [chr(ord(i)) for i in s]\n",
    "myfunction(\"python\")"
   ]
  },
  {
   "cell_type": "markdown",
   "id": "10fccecc",
   "metadata": {},
   "source": [
    "    In the above find that string characters to ascii values and revert ascii values to it's charactres in list form"
   ]
  },
  {
   "cell_type": "markdown",
   "id": "04f0015d",
   "metadata": {},
   "source": [
    "#### 3. Write a program to select only 5 random elements from a list and find its sum of it. "
   ]
  },
  {
   "cell_type": "code",
   "execution_count": 13,
   "id": "47cfc155",
   "metadata": {},
   "outputs": [
    {
     "name": "stdout",
     "output_type": "stream",
     "text": [
      "18\n"
     ]
    }
   ],
   "source": [
    "import random\n",
    "list = [1,4,2,4,5,3,4]\n",
    "n = 5\n",
    "p = (random.sample(list,n))\n",
    "r = sum(p)\n",
    "print(r)"
   ]
  },
  {
   "cell_type": "markdown",
   "id": "0230d499",
   "metadata": {},
   "source": [
    "    In the above code select five random elements from a list"
   ]
  },
  {
   "cell_type": "markdown",
   "id": "ab6ec542",
   "metadata": {},
   "source": [
    "#### 4.Write a program to check given input is either alphanumeric or alphabets or numeric?"
   ]
  },
  {
   "cell_type": "code",
   "execution_count": 7,
   "id": "0557640c",
   "metadata": {},
   "outputs": [
    {
     "name": "stdout",
     "output_type": "stream",
     "text": [
      "given value isalphabetic numeric.\n"
     ]
    }
   ],
   "source": [
    "def sample(value):\n",
    "    if value.isalpha():\n",
    "        return('given value is alphabet.')\n",
    "    elif value.isdigit():\n",
    "        return('given value is digit')\n",
    "    else:\n",
    "        return('given value isalphabetic numeric.')\n",
    "print(sample('python12'))    "
   ]
  },
  {
   "cell_type": "markdown",
   "id": "3df209c3",
   "metadata": {},
   "source": [
    "    In the above code find that given inputs are alphanumeric or alphabets or numeric"
   ]
  },
  {
   "cell_type": "markdown",
   "id": "d96013ad",
   "metadata": {},
   "source": [
    "#### 5.Write code to sort in descending order without using sort() method."
   ]
  },
  {
   "cell_type": "code",
   "execution_count": 10,
   "id": "33397c77",
   "metadata": {},
   "outputs": [
    {
     "name": "stdout",
     "output_type": "stream",
     "text": [
      "[87, 39, 36, 9, 5, 2, -1]\n"
     ]
    }
   ],
   "source": [
    "def sort_ele(list):\n",
    "    for i in range(len(list)):\n",
    "        for j in range(i+1,len(list)):\n",
    "            if list[i] < list[j]:\n",
    "                list[i],list[j]=list[j],list[i]\n",
    "    return(list)\n",
    "print(sort_ele([2,87,36,-1,9,5,39]))    "
   ]
  },
  {
   "cell_type": "markdown",
   "id": "0cac9b69",
   "metadata": {},
   "source": [
    "    In the  above code to sort in the descending order using sort method"
   ]
  },
  {
   "cell_type": "code",
   "execution_count": 11,
   "id": "e53061e8",
   "metadata": {},
   "outputs": [
    {
     "name": "stdout",
     "output_type": "stream",
     "text": [
      "[-1, 2, 5, 9, 36, 39, 87]\n"
     ]
    }
   ],
   "source": [
    "def sort_ele(list):\n",
    "    for i in range(len(list)):\n",
    "        for j in range(i+1,len(list)):\n",
    "            if list[i] > list[j]:\n",
    "                list[i],list[j]=list[j],list[i]\n",
    "    return(list)\n",
    "print(sort_ele([2,87,36,-1,9,5,39])) "
   ]
  },
  {
   "cell_type": "markdown",
   "id": "1ee5d6f4",
   "metadata": {},
   "source": [
    "    In the above code to sort in the ascending order using sort method"
   ]
  },
  {
   "cell_type": "markdown",
   "id": "bb50071a",
   "metadata": {},
   "source": [
    "#### 6.Write a program that should take a list and return it's each individual exponential of 2 and whose resulted value is should NOt be greater than any element in the list. "
   ]
  },
  {
   "cell_type": "code",
   "execution_count": 15,
   "id": "756012a8",
   "metadata": {},
   "outputs": [
    {
     "data": {
      "text/plain": [
       "[2]"
      ]
     },
     "execution_count": 15,
     "metadata": {},
     "output_type": "execute_result"
    }
   ],
   "source": [
    "def exp_num(l):\n",
    "    l1 = [2**i for i in l]\n",
    "    l2 = []\n",
    "    for i in l1:\n",
    "        if i<max(l):\n",
    "            l2.append(i)\n",
    "    return l2\n",
    "exp_num([1,2,3,4])"
   ]
  },
  {
   "cell_type": "markdown",
   "id": "892e0bc7",
   "metadata": {},
   "source": []
  }
 ],
 "metadata": {
  "kernelspec": {
   "display_name": "Python 3 (ipykernel)",
   "language": "python",
   "name": "python3"
  },
  "language_info": {
   "codemirror_mode": {
    "name": "ipython",
    "version": 3
   },
   "file_extension": ".py",
   "mimetype": "text/x-python",
   "name": "python",
   "nbconvert_exporter": "python",
   "pygments_lexer": "ipython3",
   "version": "3.9.9"
  }
 },
 "nbformat": 4,
 "nbformat_minor": 5
}
