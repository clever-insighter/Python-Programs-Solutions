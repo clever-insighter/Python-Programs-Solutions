{
 "cells": [
  {
   "cell_type": "markdown",
   "id": "0cfccf24",
   "metadata": {},
   "source": [
    "#### 1. Write a program of sorted list using list_comprehension"
   ]
  },
  {
   "cell_type": "code",
   "execution_count": 7,
   "id": "b6e0f039",
   "metadata": {},
   "outputs": [
    {
     "name": "stdout",
     "output_type": "stream",
     "text": [
      "[0, 1, 4, 6, 9]\n"
     ]
    }
   ],
   "source": [
    "print(sorted([i for i in [1,4,0,6,9]]))"
   ]
  },
  {
   "cell_type": "markdown",
   "id": "f2a3d2c3",
   "metadata": {},
   "source": [
    "#### 2. Write a sorting algorthim for a numerical dataset in python"
   ]
  },
  {
   "cell_type": "code",
   "execution_count": 1,
   "id": "8afc0aaa",
   "metadata": {},
   "outputs": [
    {
     "name": "stdout",
     "output_type": "stream",
     "text": [
      "[0, 1, 4, 6, 9]\n"
     ]
    }
   ],
   "source": [
    "list = [\"1\",\"4\",\"0\",\"6\",\"9\"]\n",
    "list = [int(i) for i in list]\n",
    "list.sort()\n",
    "print(list)"
   ]
  },
  {
   "cell_type": "code",
   "execution_count": 2,
   "id": "c4f328a5",
   "metadata": {},
   "outputs": [
    {
     "name": "stdout",
     "output_type": "stream",
     "text": [
      "['A', 'E', 'I', 'O', 'U']\n"
     ]
    }
   ],
   "source": [
    "list = [\"A\",\"O\",\"I\",\"E\",\"U\"]\n",
    "list = [str(i) for i in list]\n",
    "list.sort()\n",
    "print(list)"
   ]
  },
  {
   "cell_type": "markdown",
   "id": "461e525d",
   "metadata": {},
   "source": [
    "    In the above code find that sorting of a numerical dataset"
   ]
  },
  {
   "cell_type": "markdown",
   "id": "b4b5291d",
   "metadata": {},
   "source": [
    "#### 2.Write a program in python to check if a sequence is a palindrome or not"
   ]
  },
  {
   "cell_type": "code",
   "execution_count": 3,
   "id": "a885e371",
   "metadata": {},
   "outputs": [
    {
     "name": "stdout",
     "output_type": "stream",
     "text": [
      "enter a sequence323\n",
      "it is polindrome\n"
     ]
    }
   ],
   "source": [
    "a = input(\"enter a sequence\")\n",
    "b = a[::-1]\n",
    "if b == a:\n",
    "    print(\"it is polindrome\")\n",
    "else:\n",
    "    print(\"it is not a polindrome\")"
   ]
  },
  {
   "cell_type": "markdown",
   "id": "98b9037c",
   "metadata": {},
   "source": [
    "    In the above find that given number is polindrome .given that sequence is 323 it is a polindrome"
   ]
  },
  {
   "cell_type": "code",
   "execution_count": 4,
   "id": "379f8096",
   "metadata": {},
   "outputs": [
    {
     "name": "stdout",
     "output_type": "stream",
     "text": [
      "enter a sequence654\n",
      "it is not a polindrome\n"
     ]
    }
   ],
   "source": [
    "a = input(\"enter a sequence\")\n",
    "b = a[::-1]\n",
    "if b == a:\n",
    "    print(\"it is polindrome\")\n",
    "else:\n",
    "    print(\"it is not a polindrome\")"
   ]
  },
  {
   "cell_type": "markdown",
   "id": "9d54c738",
   "metadata": {},
   "source": [
    "    In the above find that enter a sequence is polindrome or not.given the sequence is 423 it is not a polindrome \n"
   ]
  },
  {
   "cell_type": "markdown",
   "id": "36dd6959",
   "metadata": {},
   "source": [
    "#### 3.How to create an empty class in python?"
   ]
  },
  {
   "cell_type": "code",
   "execution_count": 5,
   "id": "f69144bf",
   "metadata": {},
   "outputs": [
    {
     "name": "stdout",
     "output_type": "stream",
     "text": [
      "Name =  XYZ\n"
     ]
    }
   ],
   "source": [
    "class a:\n",
    "    pass\n",
    "obj = a()\n",
    "obj.name = \"XYZ\"\n",
    "print(\"Name = \",obj.name)"
   ]
  },
  {
   "cell_type": "markdown",
   "id": "28ef0db7",
   "metadata": {},
   "source": [
    "#### 4.Swap of two vaiables?"
   ]
  },
  {
   "cell_type": "code",
   "execution_count": 6,
   "id": "6c3985ca",
   "metadata": {},
   "outputs": [
    {
     "name": "stdout",
     "output_type": "stream",
     "text": [
      "please enter value of p:23\n",
      "please enter value of q:12\n",
      "the value of swapping: 12\n",
      "the value of swapping: 23\n"
     ]
    }
   ],
   "source": [
    "p = int(input(\"please enter value of p:\"))\n",
    "q = int(input(\"please enter value of q:\"))\n",
    "p,q = q,p\n",
    "print(\"the value of swapping:\",p)\n",
    "print(\"the value of swapping:\",q)"
   ]
  },
  {
   "cell_type": "code",
   "execution_count": 7,
   "id": "79371012",
   "metadata": {},
   "outputs": [
    {
     "name": "stdout",
     "output_type": "stream",
     "text": [
      "please enter value of p:76\n",
      "please enter value of q:54\n",
      "the value of p swapping: 54\n",
      "the value of q swapping: 76\n"
     ]
    }
   ],
   "source": [
    "p = int(input(\"please enter value of p:\"))\n",
    "q = int(input(\"please enter value of q:\"))\n",
    "temp_1 = p\n",
    "p = q\n",
    "q = temp_1\n",
    "print(\"the value of p swapping:\",p)\n",
    "print(\"the value of q swapping:\",q)"
   ]
  },
  {
   "cell_type": "markdown",
   "id": "12abe719",
   "metadata": {},
   "source": [
    "#### 5.Write a program of calender?"
   ]
  },
  {
   "cell_type": "code",
   "execution_count": 8,
   "id": "88ea2fce",
   "metadata": {},
   "outputs": [
    {
     "name": "stdout",
     "output_type": "stream",
     "text": [
      "Enter year: 2022\n",
      "Enter month: 12\n",
      "   December 2022\n",
      "Mo Tu We Th Fr Sa Su\n",
      "          1  2  3  4\n",
      " 5  6  7  8  9 10 11\n",
      "12 13 14 15 16 17 18\n",
      "19 20 21 22 23 24 25\n",
      "26 27 28 29 30 31\n",
      "\n"
     ]
    }
   ],
   "source": [
    "import calendar\n",
    "yy = int(input(\"Enter year: \"))\n",
    "mm = int(input(\"Enter month: \"))\n",
    "print(calendar.month(yy,mm))"
   ]
  },
  {
   "cell_type": "markdown",
   "id": "87eaf8a7",
   "metadata": {},
   "source": [
    "#### 6. Write a program of  even or odd number?"
   ]
  },
  {
   "cell_type": "code",
   "execution_count": 9,
   "id": "cfd29d65",
   "metadata": {},
   "outputs": [
    {
     "name": "stdout",
     "output_type": "stream",
     "text": [
      "Enter a number: 24\n",
      "24 is Even number\n"
     ]
    }
   ],
   "source": [
    "num = int(input(\"Enter a number: \"))\n",
    "if (num % 2) == 0:\n",
    "    print(\"{0} is Even number\".format(num))\n",
    "else:\n",
    "    print(\"{0} is Odd number\".format(num))"
   ]
  },
  {
   "cell_type": "code",
   "execution_count": 10,
   "id": "2ea8276f",
   "metadata": {},
   "outputs": [
    {
     "name": "stdout",
     "output_type": "stream",
     "text": [
      "Enter a number: 35\n",
      "35 is Odd number\n"
     ]
    }
   ],
   "source": [
    "num = int(input(\"Enter a number: \"))\n",
    "if (num % 2) == 0:\n",
    "    print(\"{0} is Even number\".format(num))\n",
    "else:\n",
    "    print(\"{0} is Odd number\".format(num))"
   ]
  },
  {
   "cell_type": "code",
   "execution_count": null,
   "id": "5e6a37c0",
   "metadata": {},
   "outputs": [],
   "source": []
  }
 ],
 "metadata": {
  "kernelspec": {
   "display_name": "Python 3 (ipykernel)",
   "language": "python",
   "name": "python3"
  },
  "language_info": {
   "codemirror_mode": {
    "name": "ipython",
    "version": 3
   },
   "file_extension": ".py",
   "mimetype": "text/x-python",
   "name": "python",
   "nbconvert_exporter": "python",
   "pygments_lexer": "ipython3",
   "version": "3.10.2"
  }
 },
 "nbformat": 4,
 "nbformat_minor": 5
}
